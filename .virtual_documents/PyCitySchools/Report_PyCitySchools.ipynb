


# Setup/Importing files
import pandas as pd
from pathlib import Path

school_data_import = Path("../Resources/schools_complete.csv")
student_data_import = Path("../Resources/students_complete.csv")

#Reading files/Storing into Pandas DF's
school_data = pd.read_csv(school_data_import)
student_data = pd.read_csv(student_data_import)

#Combine data into one dataset
school_data_combo = pd.merge(student_data, school_data, how="left", on=["school_name", "school_name"])
school_data_combo.head()





#Find total number of schools in district
school_names_col = school_data_combo['school_name']
total_schools_count = school_names_col.nunique()

total_schools_count


#Find total number of students in district
student_names_col = school_data_combo['Student ID']
total_students_count = student_names_col.nunique()

total_students_count


#Find total budget of district
school_budget_col = school_data_combo['budget']
school_budgets = school_budget_col.unique()
total_budget = sum(school_budgets)

total_budget


#Find average math score of district
math_score_col = school_data_combo['math_score']
average_math_score = sum(math_score_col)/total_students_count

average_math_score


#Find average reading score of district
reading_score_col = school_data_combo['reading_score']
average_reading_score = sum(reading_score_col)/total_students_count

average_reading_score


#Find percent of students in district who passed math (score greater than or equal to 70)
math_pass_count = school_data_combo[(school_data_combo['math_score'] >= 70)].count()['Student ID']
math_pass_percent = math_pass_count / float(total_students_count) * 100

math_pass_percent


#Find percent of students in district who passed reading (score greater than or equal to 70)
reading_pass_count = school_data_combo[(school_data_combo['reading_score'] >= 70)].count()['Student ID']
reading_pass_percent = reading_pass_count / float(total_students_count) * 100

reading_pass_percent


#Find percent of students in district who passed both math and reading
combo_pass_count = school_data_combo[(school_data_combo['math_score'] >= 70) & (school_data_combo['reading_score'] >= 70)].count()['Student ID']
pass_rate = combo_pass_count / float(total_students_count) * 100

pass_rate


#Create snapshot of districts key metrics in a DF

#Place all data into a dictionary
district_data = {
                'Total Schools': [total_schools_count],
                'Total Students': [total_students_count],
                'Total Budget': [total_budget],
                'Average Math Score': [average_math_score],
                'Average Reading Score': [average_reading_score],
                '% Passing Math': [math_pass_percent],
                '% Passing Reading': [reading_pass_percent],
                '% Overall Passing': [pass_rate]
                }
#Format dictionary as a Data Frame
district_summary = pd.DataFrame(district_data)

#Format specific data types
district_summary['Total Students'] = district_summary['Total Students'].map("{:,}".format)
district_summary['Total Budget'] = district_summary['Total Budget'].map("${:,.2f}".format)

district_summary
    





#Find school type per school
school_types = school_data.set_index(['school_name'])['type']



#Find total students per school
student_per_school_count = school_data.set_index(['school_name'])['size']



#Find total school budget and budget per student (per capita) per school

#Budget per school
budget_per_school = school_data.set_index(['school_name'])['budget']

#Budget per student
budget_per_student = budget_per_school / student_per_school_count


#Find number of students per school with passing math score
students_passing_math_perschool = school_data_combo[school_data_combo['math_score'] >= 70].groupby('school_name').count()['Student ID']



#Find number of students per school with passing reading score
students_passing_reading_perschool = school_data_combo[school_data_combo['reading_score'] >= 70].groupby('school_name').count()['Student ID']



#Find average test scores per school (math and reading separately)
avg_mathscore_perschool = school_data_combo.groupby('school_name')['math_score'].mean()

avg_readingscore_perschool = school_data_combo.groupby('school_name')['reading_score'].mean()



#Find number of students per school who passed both math and reading
students_passing_mathandreading = school_data_combo[(school_data_combo['reading_score'] >= 70) & (school_data_combo['math_score'] >= 70)]
spmar_byschool = students_passing_mathandreading.groupby(['school_name']).size()



#Find passing rates
percent_perschool_passing_math = students_passing_math_perschool / student_per_school_count * 100
percent_perschool_passing_reading = students_passing_reading_perschool / student_per_school_count * 100
overall_percent_passing = spmar_byschool / student_per_school_count * 100


#Create DataFrame for school data summary
