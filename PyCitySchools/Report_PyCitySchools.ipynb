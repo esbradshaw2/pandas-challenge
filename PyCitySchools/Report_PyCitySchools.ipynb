{
 "cells": [
  {
   "cell_type": "markdown",
   "id": "4323d3b0-f4fa-440d-b2c8-15faf3eb1509",
   "metadata": {},
   "source": [
    "# PyCity School Analysis Report\n",
    "\n",
    "<h2>Analysis Summary:</h2>\n",
    "\n",
    "* content\n",
    "\n",
    "<h2>2 Conclusions/Comparisons:</h2>\n",
    "\n",
    "* content"
   ]
  },
  {
   "cell_type": "code",
   "execution_count": null,
   "id": "53a6cea0-4b2f-4201-801c-76e56d5aa576",
   "metadata": {},
   "outputs": [],
   "source": [
    "# Setup/Importing files\n",
    "import pandas as pd\n",
    "from pathlib import Path\n",
    "\n",
    "school_data_import = Path(\"../Resources/schools_complete.csv\")\n",
    "student_data_import = Path(\"../Resources/students_complete.csv\")\n",
    "\n",
    "#Reading files/Storing into Pandas DF's\n",
    "school_data = pd.read_csv(school_data_import)\n",
    "student_data = pd.read_csv(student_data_import)\n",
    "\n",
    "#Combine data into one dataset\n",
    "school_data_combo = pd.merge(student_data, school_data, how=\"left\", on=[\"school_name\", \"school_name\"])\n",
    "school_data_combo.head()"
   ]
  },
  {
   "cell_type": "markdown",
   "id": "e2a3183d-1592-4436-92a7-ede5c239e233",
   "metadata": {},
   "source": [
    "## District Summary"
   ]
  },
  {
   "cell_type": "code",
   "execution_count": null,
   "id": "fa99588c-21ee-4332-b83f-ab368b1b0fcf",
   "metadata": {},
   "outputs": [],
   "source": []
  }
 ],
 "metadata": {
  "kernelspec": {
   "display_name": "Python 3 (ipykernel)",
   "language": "python",
   "name": "python3"
  },
  "language_info": {
   "codemirror_mode": {
    "name": "ipython",
    "version": 3
   },
   "file_extension": ".py",
   "mimetype": "text/x-python",
   "name": "python",
   "nbconvert_exporter": "python",
   "pygments_lexer": "ipython3",
   "version": "3.10.13"
  }
 },
 "nbformat": 4,
 "nbformat_minor": 5
}
