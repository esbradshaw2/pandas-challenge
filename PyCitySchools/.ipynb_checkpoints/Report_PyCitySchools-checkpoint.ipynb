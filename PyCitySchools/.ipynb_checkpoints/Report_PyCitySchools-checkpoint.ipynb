{
 "cells": [
  {
   "cell_type": "markdown",
   "id": "4323d3b0-f4fa-440d-b2c8-15faf3eb1509",
   "metadata": {},
   "source": [
    "# PyCity School Analysis Report\n",
    "\n",
    "<h2>Analysis Summary:</h2>\n",
    "\n",
    "* content\n",
    "\n",
    "<h2>2 Conclusions/Comparisons:</h2>\n",
    "\n",
    "* content"
   ]
  },
  {
   "cell_type": "code",
   "execution_count": null,
   "id": "53a6cea0-4b2f-4201-801c-76e56d5aa576",
   "metadata": {},
   "outputs": [],
   "source": [
    "# Setup/Importing files\n",
    "import pandas as pd\n",
    "from pathlib import Path\n",
    "\n",
    "school_data_import = Path(\"../Resources/schools_complete.csv\")\n",
    "student_data_import = Path(\"../Resources/students_complete.csv\")\n",
    "\n",
    "#Reading files/Storing into Pandas DF's\n",
    "school_data = pd.read_csv(school_data_import)\n",
    "student_data = pd.read_csv(student_data_import)\n",
    "\n",
    "#Combine data into one dataset\n",
    "school_data_combo = pd.merge(student_data, school_data, how=\"left\", on=[\"school_name\", \"school_name\"])\n",
    "school_data_combo.head()"
   ]
  },
  {
   "cell_type": "code",
   "execution_count": null,
   "id": "8a68a5a4-ac52-4c64-b79a-17a09740fdce",
   "metadata": {},
   "outputs": [],
   "source": []
  }
 ],
 "metadata": {
  "kernelspec": {
   "display_name": "Python 3 (ipykernel)",
   "language": "python",
   "name": "python3"
  },
  "language_info": {
   "codemirror_mode": {
    "name": "ipython",
    "version": 3
   },
   "file_extension": ".py",
   "mimetype": "text/x-python",
   "name": "python",
   "nbconvert_exporter": "python",
   "pygments_lexer": "ipython3",
   "version": "3.10.13"
  }
 },
 "nbformat": 4,
 "nbformat_minor": 5
}
