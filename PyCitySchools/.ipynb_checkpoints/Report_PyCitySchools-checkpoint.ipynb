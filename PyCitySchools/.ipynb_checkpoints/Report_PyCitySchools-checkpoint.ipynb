{
 "cells": [
  {
   "cell_type": "markdown",
   "id": "4323d3b0-f4fa-440d-b2c8-15faf3eb1509",
   "metadata": {},
   "source": [
    "# PyCity School Analysis Report\n",
    "\n",
    "<h2>Analysis Summary:</h2>\n",
    "\n",
    "* content\n",
    "\n",
    "<h2>2 Conclusions/Comparisons:</h2>\n",
    "\n",
    "* content"
   ]
  },
  {
   "cell_type": "code",
   "execution_count": 2,
   "id": "53a6cea0-4b2f-4201-801c-76e56d5aa576",
   "metadata": {},
   "outputs": [
    {
     "data": {
      "text/html": [
       "<div>\n",
       "<style scoped>\n",
       "    .dataframe tbody tr th:only-of-type {\n",
       "        vertical-align: middle;\n",
       "    }\n",
       "\n",
       "    .dataframe tbody tr th {\n",
       "        vertical-align: top;\n",
       "    }\n",
       "\n",
       "    .dataframe thead th {\n",
       "        text-align: right;\n",
       "    }\n",
       "</style>\n",
       "<table border=\"1\" class=\"dataframe\">\n",
       "  <thead>\n",
       "    <tr style=\"text-align: right;\">\n",
       "      <th></th>\n",
       "      <th>Student ID</th>\n",
       "      <th>student_name</th>\n",
       "      <th>gender</th>\n",
       "      <th>grade</th>\n",
       "      <th>school_name</th>\n",
       "      <th>reading_score</th>\n",
       "      <th>math_score</th>\n",
       "      <th>School ID</th>\n",
       "      <th>type</th>\n",
       "      <th>size</th>\n",
       "      <th>budget</th>\n",
       "    </tr>\n",
       "  </thead>\n",
       "  <tbody>\n",
       "    <tr>\n",
       "      <th>0</th>\n",
       "      <td>0</td>\n",
       "      <td>Paul Bradley</td>\n",
       "      <td>M</td>\n",
       "      <td>9th</td>\n",
       "      <td>Huang High School</td>\n",
       "      <td>66</td>\n",
       "      <td>79</td>\n",
       "      <td>0</td>\n",
       "      <td>District</td>\n",
       "      <td>2917</td>\n",
       "      <td>1910635</td>\n",
       "    </tr>\n",
       "    <tr>\n",
       "      <th>1</th>\n",
       "      <td>1</td>\n",
       "      <td>Victor Smith</td>\n",
       "      <td>M</td>\n",
       "      <td>12th</td>\n",
       "      <td>Huang High School</td>\n",
       "      <td>94</td>\n",
       "      <td>61</td>\n",
       "      <td>0</td>\n",
       "      <td>District</td>\n",
       "      <td>2917</td>\n",
       "      <td>1910635</td>\n",
       "    </tr>\n",
       "    <tr>\n",
       "      <th>2</th>\n",
       "      <td>2</td>\n",
       "      <td>Kevin Rodriguez</td>\n",
       "      <td>M</td>\n",
       "      <td>12th</td>\n",
       "      <td>Huang High School</td>\n",
       "      <td>90</td>\n",
       "      <td>60</td>\n",
       "      <td>0</td>\n",
       "      <td>District</td>\n",
       "      <td>2917</td>\n",
       "      <td>1910635</td>\n",
       "    </tr>\n",
       "    <tr>\n",
       "      <th>3</th>\n",
       "      <td>3</td>\n",
       "      <td>Dr. Richard Scott</td>\n",
       "      <td>M</td>\n",
       "      <td>12th</td>\n",
       "      <td>Huang High School</td>\n",
       "      <td>67</td>\n",
       "      <td>58</td>\n",
       "      <td>0</td>\n",
       "      <td>District</td>\n",
       "      <td>2917</td>\n",
       "      <td>1910635</td>\n",
       "    </tr>\n",
       "    <tr>\n",
       "      <th>4</th>\n",
       "      <td>4</td>\n",
       "      <td>Bonnie Ray</td>\n",
       "      <td>F</td>\n",
       "      <td>9th</td>\n",
       "      <td>Huang High School</td>\n",
       "      <td>97</td>\n",
       "      <td>84</td>\n",
       "      <td>0</td>\n",
       "      <td>District</td>\n",
       "      <td>2917</td>\n",
       "      <td>1910635</td>\n",
       "    </tr>\n",
       "  </tbody>\n",
       "</table>\n",
       "</div>"
      ],
      "text/plain": [
       "   Student ID       student_name gender grade        school_name  \\\n",
       "0           0       Paul Bradley      M   9th  Huang High School   \n",
       "1           1       Victor Smith      M  12th  Huang High School   \n",
       "2           2    Kevin Rodriguez      M  12th  Huang High School   \n",
       "3           3  Dr. Richard Scott      M  12th  Huang High School   \n",
       "4           4         Bonnie Ray      F   9th  Huang High School   \n",
       "\n",
       "   reading_score  math_score  School ID      type  size   budget  \n",
       "0             66          79          0  District  2917  1910635  \n",
       "1             94          61          0  District  2917  1910635  \n",
       "2             90          60          0  District  2917  1910635  \n",
       "3             67          58          0  District  2917  1910635  \n",
       "4             97          84          0  District  2917  1910635  "
      ]
     },
     "execution_count": 2,
     "metadata": {},
     "output_type": "execute_result"
    }
   ],
   "source": [
    "# Setup/Importing files\n",
    "import pandas as pd\n",
    "from pathlib import Path\n",
    "\n",
    "school_data_import = Path(\"../Resources/schools_complete.csv\")\n",
    "student_data_import = Path(\"../Resources/students_complete.csv\")\n",
    "\n",
    "#Reading files/Storing into Pandas DF's\n",
    "school_data = pd.read_csv(school_data_import)\n",
    "student_data = pd.read_csv(student_data_import)\n",
    "\n",
    "#Combine data into one dataset\n",
    "school_data_combo = pd.merge(student_data, school_data, how=\"left\", on=[\"school_name\", \"school_name\"])\n",
    "school_data_combo.head()"
   ]
  },
  {
   "cell_type": "markdown",
   "id": "e2a3183d-1592-4436-92a7-ede5c239e233",
   "metadata": {},
   "source": [
    "## District Summary"
   ]
  },
  {
   "cell_type": "code",
   "execution_count": 7,
   "id": "fa99588c-21ee-4332-b83f-ab368b1b0fcf",
   "metadata": {},
   "outputs": [
    {
     "data": {
      "text/plain": [
       "15"
      ]
     },
     "execution_count": 7,
     "metadata": {},
     "output_type": "execute_result"
    }
   ],
   "source": [
    "#Find total number of schools in district\n",
    "school_names_col = school_data_combo['school_name']\n",
    "total_schools_count = school_names_col.nunique()\n",
    "\n",
    "total_schools_count"
   ]
  },
  {
   "cell_type": "code",
   "execution_count": 9,
   "id": "d1841649-f613-4920-8197-31a90a71d61c",
   "metadata": {},
   "outputs": [
    {
     "data": {
      "text/plain": [
       "39170"
      ]
     },
     "execution_count": 9,
     "metadata": {},
     "output_type": "execute_result"
    }
   ],
   "source": [
    "#Find total number of students in district\n",
    "student_names_col = school_data_combo['Student ID']\n",
    "total_students_count = student_names_col.nunique()\n",
    "\n",
    "total_students_count"
   ]
  },
  {
   "cell_type": "code",
   "execution_count": 15,
   "id": "2a2044cb-edd3-47d4-b5df-508424d3be62",
   "metadata": {},
   "outputs": [
    {
     "data": {
      "text/plain": [
       "24649428"
      ]
     },
     "execution_count": 15,
     "metadata": {},
     "output_type": "execute_result"
    }
   ],
   "source": [
    "#Find total budget of district\n",
    "school_budget_col = school_data_combo['budget']\n",
    "school_budgets = school_budget_col.unique()\n",
    "total_budget = sum(school_budgets)\n",
    "\n",
    "total_budget"
   ]
  },
  {
   "cell_type": "code",
   "execution_count": 10,
   "id": "2687d6a9-a07b-4399-8859-65b64dafe3b4",
   "metadata": {},
   "outputs": [
    {
     "data": {
      "text/plain": [
       "78.98537145774827"
      ]
     },
     "execution_count": 10,
     "metadata": {},
     "output_type": "execute_result"
    }
   ],
   "source": [
    "#Find average math score of district\n",
    "math_score_col = school_data_combo['math_score']\n",
    "average_math_score = sum(math_score_col)/total_students_count\n",
    "\n",
    "average_math_score"
   ]
  },
  {
   "cell_type": "code",
   "execution_count": 11,
   "id": "f1e4c42e-600a-4daa-9811-efa731a10924",
   "metadata": {},
   "outputs": [
    {
     "data": {
      "text/plain": [
       "81.87784018381414"
      ]
     },
     "execution_count": 11,
     "metadata": {},
     "output_type": "execute_result"
    }
   ],
   "source": [
    "#Find average reading score of district\n",
    "reading_score_col = school_data_combo['reading_score']\n",
    "average_reading_score = sum(reading_score_col)/total_students_count\n",
    "\n",
    "average_reading_score"
   ]
  },
  {
   "cell_type": "code",
   "execution_count": 12,
   "id": "2177de8d-26aa-4be5-b37b-7eccdef59cac",
   "metadata": {},
   "outputs": [
    {
     "data": {
      "text/plain": [
       "74.9808526933878"
      ]
     },
     "execution_count": 12,
     "metadata": {},
     "output_type": "execute_result"
    }
   ],
   "source": [
    "#Find percent of students in district who passed math (score greater than or equal to 70)\n",
    "math_pass_count = school_data_combo[(school_data_combo['math_score'] >= 70)].count()['Student ID']\n",
    "math_pass_percent = math_pass_count / float(total_students_count) * 100\n",
    "\n",
    "math_pass_percent"
   ]
  },
  {
   "cell_type": "code",
   "execution_count": 13,
   "id": "906b9234-4369-4525-9b80-66b96eb88272",
   "metadata": {},
   "outputs": [
    {
     "data": {
      "text/plain": [
       "85.80546336482001"
      ]
     },
     "execution_count": 13,
     "metadata": {},
     "output_type": "execute_result"
    }
   ],
   "source": [
    "#Find percent of students in district who passed reading (score greater than or equal to 70)\n",
    "reading_pass_count = school_data_combo[(school_data_combo['reading_score'] >= 70)].count()['Student ID']\n",
    "reading_pass_percent = reading_pass_count / float(total_students_count) * 100\n",
    "\n",
    "reading_pass_percent"
   ]
  },
  {
   "cell_type": "code",
   "execution_count": 14,
   "id": "9e8695b5-bc88-4bf8-8135-14e2ef1500f1",
   "metadata": {},
   "outputs": [
    {
     "data": {
      "text/plain": [
       "65.17232575950983"
      ]
     },
     "execution_count": 14,
     "metadata": {},
     "output_type": "execute_result"
    }
   ],
   "source": [
    "#Find percent of students in district who passed both math and reading\n",
    "combo_pass_count = school_data_combo[(school_data_combo['math_score'] >= 70) & (school_data_combo['reading_score'] >= 70)].count()['Student ID']\n",
    "pass_rate = combo_pass_count / float(total_students_count) * 100\n",
    "\n",
    "pass_rate"
   ]
  },
  {
   "cell_type": "code",
   "execution_count": 17,
   "id": "f6a9ae23-c0a3-4ddb-9893-2b4913a0c32c",
   "metadata": {},
   "outputs": [
    {
     "data": {
      "text/html": [
       "<div>\n",
       "<style scoped>\n",
       "    .dataframe tbody tr th:only-of-type {\n",
       "        vertical-align: middle;\n",
       "    }\n",
       "\n",
       "    .dataframe tbody tr th {\n",
       "        vertical-align: top;\n",
       "    }\n",
       "\n",
       "    .dataframe thead th {\n",
       "        text-align: right;\n",
       "    }\n",
       "</style>\n",
       "<table border=\"1\" class=\"dataframe\">\n",
       "  <thead>\n",
       "    <tr style=\"text-align: right;\">\n",
       "      <th></th>\n",
       "      <th>Total Schools</th>\n",
       "      <th>Total Students</th>\n",
       "      <th>Total Budget</th>\n",
       "      <th>Average Math Score</th>\n",
       "      <th>Average Reading Score</th>\n",
       "      <th>% Passing Math</th>\n",
       "      <th>% Passing Reading</th>\n",
       "      <th>% Overall Passing</th>\n",
       "    </tr>\n",
       "  </thead>\n",
       "  <tbody>\n",
       "    <tr>\n",
       "      <th>0</th>\n",
       "      <td>15</td>\n",
       "      <td>39,170</td>\n",
       "      <td>$24,649,428.00</td>\n",
       "      <td>78.985371</td>\n",
       "      <td>81.87784</td>\n",
       "      <td>74.980853</td>\n",
       "      <td>85.805463</td>\n",
       "      <td>65.172326</td>\n",
       "    </tr>\n",
       "  </tbody>\n",
       "</table>\n",
       "</div>"
      ],
      "text/plain": [
       "   Total Schools Total Students    Total Budget  Average Math Score  \\\n",
       "0             15         39,170  $24,649,428.00           78.985371   \n",
       "\n",
       "   Average Reading Score  % Passing Math  % Passing Reading  % Overall Passing  \n",
       "0               81.87784       74.980853          85.805463          65.172326  "
      ]
     },
     "execution_count": 17,
     "metadata": {},
     "output_type": "execute_result"
    }
   ],
   "source": [
    "#Create snapshot of districts key metrics in a DF\n",
    "\n",
    "#Place all data into a dictionary\n",
    "district_data = {\n",
    "                'Total Schools': [total_schools_count],\n",
    "                'Total Students': [total_students_count],\n",
    "                'Total Budget': [total_budget],\n",
    "                'Average Math Score': [average_math_score],\n",
    "                'Average Reading Score': [average_reading_score],\n",
    "                '% Passing Math': [math_pass_percent],\n",
    "                '% Passing Reading': [reading_pass_percent],\n",
    "                '% Overall Passing': [pass_rate]\n",
    "                }\n",
    "#Format dictionary as a Data Frame\n",
    "district_summary = pd.DataFrame(district_data)\n",
    "\n",
    "#Format specific data types\n",
    "district_summary['Total Students'] = district_summary['Total Students'].map(\"{:,}\".format)\n",
    "district_summary['Total Budget'] = district_summary['Total Budget'].map(\"${:,.2f}\".format)\n",
    "\n",
    "district_summary\n",
    "    "
   ]
  },
  {
   "cell_type": "code",
   "execution_count": null,
   "id": "434a3e97-d7e8-49cf-8268-372952ac2764",
   "metadata": {},
   "outputs": [],
   "source": []
  }
 ],
 "metadata": {
  "kernelspec": {
   "display_name": "Python 3 (ipykernel)",
   "language": "python",
   "name": "python3"
  },
  "language_info": {
   "codemirror_mode": {
    "name": "ipython",
    "version": 3
   },
   "file_extension": ".py",
   "mimetype": "text/x-python",
   "name": "python",
   "nbconvert_exporter": "python",
   "pygments_lexer": "ipython3",
   "version": "3.10.13"
  }
 },
 "nbformat": 4,
 "nbformat_minor": 5
}
